{
 "cells": [
  {
   "cell_type": "markdown",
   "id": "8b8be9e1",
   "metadata": {},
   "source": [
    "# Example: Assigning new patients to phenotypes\n",
    "We identified 4 clusters in RA (Rheumatoid arthritis) with deep embedded clustering on tabular lab & clinical data. However, to ensure that this isnt just an incidental finding, we recruit a different set of patients for replication. We apply the autoencoder model trained on the initial development set to project these new patients on the learned latent space. Given their orientiation, and their closest neighbours* (patients presenting with the same clinical characteristics from the initial set), we can provide each new patient with a cluster label.\n",
    "\n",
    "*Another name for these neighbours is: digital twins.  \n",
    "\n",
    "#### Difference in dimensionality\n",
    "In this example, there is a difference in dimensionality between the development set and the replication set. Hence, we build a reduced latent space with the features we know to be present in both datasets. Whereby, the original clustering information, defined on the complete data from the development set, remains in tact. We will use the original clustering information to assign the new patients instead of re-clustering with incomplete data, as we assume that the essence of each cluster is preserved in this reduced space.  \n",
    "\n",
    "Be careful though: If clinical data is absent in the external set (like this example), one should ensure that at least the key-features are present. Otherwise, the tool will render non-sensible output. You'll find some visualization tools down below to detect the differences in quality.\n",
    "\n",
    "## Step 1. Construct shared product space \n",
    "### Step 1.1 Import data\n",
    "We import data from both the development set as well as the replication set. Each set has two different data modalities (numerical and categorical features), which are saved in seperate tables. Hence, we open 4 files in total."
   ]
  },
  {
   "cell_type": "code",
   "execution_count": 39,
   "id": "41d28663",
   "metadata": {},
   "outputs": [],
   "source": [
    "import numpy as np\n",
    "import pandas as pd\n",
    "\n",
    "# Set seed\n",
    "np.random.seed(0)\n",
    "\n",
    "# Variables from development set\n",
    "df_numeric = pd.read_csv('../example_data/development/ClusteringDEV_NUMERIC.csv', sep=',')[['Leuko', 'MCH', 'Hb', 'Ht', 'MCHC',  'MCV', 'Trom', 'BSE', 'Lym', 'Mono', 'Age']] # \n",
    "df_categoric= pd.read_csv('../example_data/development/ClusteringDEV_CATEGORICAL.csv', sep=',')\n",
    "\n",
    "# Load modalities from replication set\n",
    "df_categoric_replication = pd.read_csv('../example_data/replication/ClusteringMETEOR_CATEGORICAL.csv', sep=',')\n",
    "df_numeric_replication = pd.read_csv('../example_data/replication/ClusteringMETEOR_NUMERIC.csv', sep=',')[['Leuko', 'MCH', 'Hb', 'Ht', 'MCHC',  'MCV', 'Trom', 'BSE', 'Lym', 'Mono', 'Age']]\n",
    "\n",
    "# Original clustering information (same samples as development set)\n",
    "df_cluster = pd.read_csv('../example_data/development/ClusteringDEV_INFO.csv')[['pseudoId', 'PhenoGraph_clusters']]"
   ]
  },
  {
   "cell_type": "markdown",
   "id": "7e1251c2",
   "metadata": {},
   "source": [
    "### Step 1.2 Force same dimensions"
   ]
  },
  {
   "cell_type": "code",
   "execution_count": 29,
   "id": "3d70b135",
   "metadata": {},
   "outputs": [
    {
     "name": "stdout",
     "output_type": "stream",
     "text": [
      "|CATEGORICAL|\n",
      "BEFORE: Columns: development set (n=322) vs replication set (n=196) \n",
      "AFTER: Columns: development set (n=195) vs replication set (n=195) \n"
     ]
    }
   ],
   "source": [
    "print('|CATEGORICAL|')\n",
    "print('BEFORE: Columns: development set (n=%s) vs replication set (n=%s) ' % (len(df_categoric.columns), len(df_categoric_replication.columns)))\n",
    "\n",
    "# Only keep categorical variables that are also in the replication set!\n",
    "l_cat = [col for col in df_categoric.columns if col in df_categoric_replication.columns]\n",
    "\n",
    "# Only keep variables relevant for clustering\n",
    "l_cat = [col for col in l_cat if col not in ['FirstConsult', 'patnr', 'pseudoId']] \n",
    "\n",
    "df_categoric = df_categoric[l_cat].copy()\n",
    "df_categoric_replication = df_categoric_replication[l_cat].copy()\n",
    "             \n",
    "print('AFTER: Columns: development set (n=%s) vs replication set (n=%s) ' % (len(df_categoric.columns), len(df_categoric_replication.columns)))\n",
    "\n",
    "# Export pruned datasets\n",
    "df_categoric.to_csv('../example_data/development/ClusteringDEV_CATEGORICAL_pruned.csv', sep=',', index=None)\n",
    "df_categoric_replication.to_csv('../example_data/replication/ClusteringMETEOR_CATEGORICAL_pruned.csv', sep=',', index=None)"
   ]
  },
  {
   "cell_type": "markdown",
   "id": "4aa49286",
   "metadata": {},
   "source": [
    "#### Same for numerical data"
   ]
  },
  {
   "cell_type": "code",
   "execution_count": 33,
   "id": "ab5785c2",
   "metadata": {},
   "outputs": [
    {
     "name": "stdout",
     "output_type": "stream",
     "text": [
      "|NUMERICAL|\n",
      "BEFORE: Columns: development set (n=11) vs replication set (n=11) \n",
      "AFTER: Columns: development set (n=11) vs replication set (n=11) \n"
     ]
    }
   ],
   "source": [
    "# Only keep numerical variables that are also in the replication set!\n",
    "print('|NUMERICAL|')\n",
    "print('BEFORE: Columns: development set (n=%s) vs replication set (n=%s) ' % (len(df_numeric.columns), len(df_numeric_replication.columns)))\n",
    "l_num = [col for col in df_numeric.columns if col in df_numeric_replication.columns]\n",
    "l_num = [col for col in l_num if col not in ['FirstConsult', 'patnr', 'pseudoId']] \n",
    "df_numeric = df_numeric[l_num].copy()\n",
    "df_numeric_replication = df_numeric_replication[l_num].copy()       \n",
    "print('AFTER: Columns: development set (n=%s) vs replication set (n=%s) ' % (len(df_numeric.columns), len(df_numeric_replication.columns)))\n",
    "\n",
    "# Export pruned dataset\n",
    "df_numeric.to_csv('../example_data/development/ClusteringDEV_NUMERIC_pruned.csv', sep=',', index=None)\n",
    "df_numeric_replication.to_csv('../example_data/replication/ClusteringMETEOR_NUMERIC_pruned.csv', sep=',', index=None)"
   ]
  },
  {
   "cell_type": "markdown",
   "id": "5d80c844",
   "metadata": {},
   "source": [
    "### Step 1.3 Learn shared product space (Example: MAUI)\n",
    "We used the autoencoder architecture of MAUI as an example. However, one could also adopt a different deep learning architecture or even a factor analysis technique (like MOFA)."
   ]
  },
  {
   "cell_type": "code",
   "execution_count": null,
   "id": "a5820e3f",
   "metadata": {},
   "outputs": [],
   "source": [
    "from keras import backend as K\n",
    "import maui\n",
    "import maui.utils\n",
    "import time\n",
    "\n",
    "#from keras import backend as K\n",
    "K.set_session(K.tf.Session(config=K.tf.ConfigProto(intra_op_parallelism_threads=1, inter_op_parallelism_threads=1)))\n",
    "\n",
    "# Build the model on the shared product space\n",
    "t0 = time.time()\n",
    "maui_model = maui.Maui(n_hidden=[150], n_latent=70, epochs=1000)\n",
    "z = maui_model.fit_transform({ 'Categorical': df_categoric.T, 'Lab_numerical': df_numeric.T})\n",
    "t1 = time.time()\n",
    "print('Time to create shared product space: ' + str(t1-t0))\n",
    "\n",
    "# Merge similar latent factors \n",
    "z_merged = maui_model.merge_similar_latent_factors(distance_threshold=.4)\n",
    "print('Z-merged shape:', z_merged.shape)\n",
    "\n",
    "# Drop latent factors which barely explain any variance\n",
    "z_filtered = maui_model.drop_unexplanatory_factors()\n",
    "\n",
    "# Save maui model state (that only uses variables also present in replication set)\n",
    "maui_model.save('../example_data/model/replication_maui')\n",
    "\n",
    "# Save shared productspace (that only uses variables also present in replication set)\n",
    "df = z_filtered.copy()\n",
    "df.insert(0, 'pseudoId', df_cluster['pseudoId'])\n",
    "df.to_csv('../example_data/embedding/SharedProductSpace_embedding.csv', index=False, sep=',')"
   ]
  },
  {
   "cell_type": "markdown",
   "id": "e6a50cbf",
   "metadata": {},
   "source": [
    "## Step 2. Project patients\n",
    "You can start from step 2, if you already have a MAUI model\n",
    "\n",
    "### Step 2.1 Load external data (& digital twin information)\n",
    "We import the pruned data (see step 1.2), as well as the clustering information"
   ]
  },
  {
   "cell_type": "code",
   "execution_count": 1,
   "id": "01ef72a7",
   "metadata": {},
   "outputs": [],
   "source": [
    "import numpy as np\n",
    "import pandas as pd\n",
    "\n",
    "# Load modalities from pruned replication set\n",
    "df_categoric_replication = pd.read_csv('../example_data/replication/ClusteringMETEOR_CATEGORICAL_pruned.csv', sep=',')\n",
    "df_numeric_replication = pd.read_csv('../example_data/replication/ClusteringMETEOR_NUMERIC_pruned.csv', sep=',')\n",
    "\n",
    "# Load identifier from replication set\n",
    "#df_id = pd.read_csv('../example_data/replication/ClusteringMETEOR_CATEGORICAL.csv', sep=',')[['pseudoId']]\n",
    "\n",
    "# Use fake identifier\n",
    "df_id = pd.DataFrame({'pseudoId' : ['id_' + str(i) for i in range(len(df_numeric_replication))]})\n",
    "\n",
    "# Original clustering information (same samples as development set)\n",
    "df_cluster = pd.read_csv('../example_data/development/ClusteringDEV_INFO.csv')[['pseudoId', 'PhenoGraph_clusters']]"
   ]
  },
  {
   "cell_type": "markdown",
   "id": "fa6df725",
   "metadata": {},
   "source": [
    "#### Load previously trained model\n",
    "Either Deep learning or Latent Factor Analysis"
   ]
  },
  {
   "cell_type": "code",
   "execution_count": 2,
   "id": "1dc8db7f",
   "metadata": {},
   "outputs": [
    {
     "name": "stderr",
     "output_type": "stream",
     "text": [
      "Using TensorFlow backend.\n",
      "/exports/reum/tdmaarseveen/custom_environment/lib/python3.6/site-packages/tensorflow/python/framework/dtypes.py:523: FutureWarning: Passing (type, 1) or '1type' as a synonym of type is deprecated; in a future version of numpy, it will be understood as (type, (1,)) / '(1,)type'.\n",
      "  _np_qint8 = np.dtype([(\"qint8\", np.int8, 1)])\n",
      "/exports/reum/tdmaarseveen/custom_environment/lib/python3.6/site-packages/tensorflow/python/framework/dtypes.py:524: FutureWarning: Passing (type, 1) or '1type' as a synonym of type is deprecated; in a future version of numpy, it will be understood as (type, (1,)) / '(1,)type'.\n",
      "  _np_quint8 = np.dtype([(\"quint8\", np.uint8, 1)])\n",
      "/exports/reum/tdmaarseveen/custom_environment/lib/python3.6/site-packages/tensorflow/python/framework/dtypes.py:525: FutureWarning: Passing (type, 1) or '1type' as a synonym of type is deprecated; in a future version of numpy, it will be understood as (type, (1,)) / '(1,)type'.\n",
      "  _np_qint16 = np.dtype([(\"qint16\", np.int16, 1)])\n",
      "/exports/reum/tdmaarseveen/custom_environment/lib/python3.6/site-packages/tensorflow/python/framework/dtypes.py:526: FutureWarning: Passing (type, 1) or '1type' as a synonym of type is deprecated; in a future version of numpy, it will be understood as (type, (1,)) / '(1,)type'.\n",
      "  _np_quint16 = np.dtype([(\"quint16\", np.uint16, 1)])\n",
      "/exports/reum/tdmaarseveen/custom_environment/lib/python3.6/site-packages/tensorflow/python/framework/dtypes.py:527: FutureWarning: Passing (type, 1) or '1type' as a synonym of type is deprecated; in a future version of numpy, it will be understood as (type, (1,)) / '(1,)type'.\n",
      "  _np_qint32 = np.dtype([(\"qint32\", np.int32, 1)])\n",
      "/exports/reum/tdmaarseveen/custom_environment/lib/python3.6/site-packages/tensorflow/python/framework/dtypes.py:532: FutureWarning: Passing (type, 1) or '1type' as a synonym of type is deprecated; in a future version of numpy, it will be understood as (type, (1,)) / '(1,)type'.\n",
      "  np_resource = np.dtype([(\"resource\", np.ubyte, 1)])\n"
     ]
    }
   ],
   "source": [
    "import maui\n",
    "maui_model = maui.Maui.load('../example_data/model/replication_maui')"
   ]
  },
  {
   "cell_type": "markdown",
   "id": "c428dd57",
   "metadata": {},
   "source": [
    "#### Load previously constructed latent space"
   ]
  },
  {
   "cell_type": "code",
   "execution_count": 3,
   "id": "0d2a8b91",
   "metadata": {},
   "outputs": [],
   "source": [
    "z_existent = pd.read_csv('../example_data/embedding/SharedProductSpace_embedding.csv',sep=',')\n",
    "z_existent = z_existent.loc[:, z_existent.columns != 'pseudoId']"
   ]
  },
  {
   "cell_type": "markdown",
   "id": "13371dcd",
   "metadata": {},
   "source": [
    "### Step 2.2 Initialize variables for patient assignment"
   ]
  },
  {
   "cell_type": "code",
   "execution_count": 4,
   "id": "f586aeab",
   "metadata": {},
   "outputs": [],
   "source": [
    "from sklearn.metrics.pairwise import cosine_similarity\n",
    "\n",
    "# Construct patient similarity matrix from original set\n",
    "sim_matrix = cosine_similarity(z_existent.astype(np.float32))\n",
    "\n",
    "# Specify columns for each modality (need to be present in both original & replication space)\n",
    "d_input = {'cat' : list(df_categoric_replication.columns), 'num' : list(df_numeric_replication.columns)}\n",
    "\n",
    "# Intialize list to save location of newly projected patients\n",
    "z_new = []\n",
    "\n",
    "# Initialize dataframe where we register the probabiltiy\n",
    "df_projection = pd.DataFrame(columns=['pseudoId', 'Proba_cluster1', 'Proba_cluster2', 'Proba_cluster3', 'Proba_cluster4'])"
   ]
  },
  {
   "cell_type": "markdown",
   "id": "19774b4d",
   "metadata": {},
   "source": [
    "### Step 2.3 Project the patients onto latent space"
   ]
  },
  {
   "cell_type": "code",
   "execution_count": 5,
   "id": "0887f518",
   "metadata": {},
   "outputs": [
    {
     "name": "stdout",
     "output_type": "stream",
     "text": [
      "Time to project patients (n=587) into product space: 136.12555813789368\n"
     ]
    }
   ],
   "source": [
    "import sys\n",
    "sys.path.append(r'../')\n",
    "from poodle import utils as pup\n",
    "import time\n",
    "\n",
    "# Start the timer\n",
    "t0 = time.time()\n",
    "\n",
    "# Classify loop\n",
    "for ix in range(len(df_categoric_replication)): \n",
    "\n",
    "    # collect sample information\n",
    "    new_pat = str(df_id.iloc[ix]['pseudoId'])\n",
    "    sample_cat = df_categoric_replication.iloc[ix]\n",
    "    sample_num = df_numeric_replication.iloc[ix]\n",
    "    sample = sample_cat.append(sample_num)\n",
    "    sample.name = new_pat\n",
    "    #print(new_pat)\n",
    "    \n",
    "    # create metadata\n",
    "    df_meta = pup.getMetaDataPatient(df_cluster, list(df_cluster['pseudoId'].values), new_pat)\n",
    "    \n",
    "    # project & classify patients\n",
    "    y, z = pup.predictPatientCluster(maui_model, df_meta, z_existent, d_input, sample, sim_matrix) \n",
    "    \n",
    "    # collect coordinates of all newly added patients\n",
    "    z_new.append(np.array(z)[-1])\n",
    "\n",
    "    # Add patient id to list of probabilities\n",
    "    y.insert(0, new_pat)\n",
    "    \n",
    "    # Add probabilities of patient to projection dataframe\n",
    "    df_projection.loc[len(df_projection)] = y \n",
    "\n",
    "# Stop the timer\n",
    "t1 = time.time()\n",
    "print('Time to project patients (n=%s) into product space: %s' % (str(len(df_projection)), str(t1-t0))) \n",
    "\n",
    "df_projection['PredictedCluster'] = df_projection.apply(lambda x : pup.getClusterLabel(x), axis=1)\n",
    "df_projection.to_csv('../example_data/results/ClusterAssignment_METEOR.csv', index=False, sep=',')"
   ]
  },
  {
   "cell_type": "markdown",
   "id": "ac5c62fb",
   "metadata": {},
   "source": [
    "## Step 3. Evaluate replicate clusters \n",
    "We will compare the replicate clusters to the original ones, by examining the baseline characteristics and shap figures.\n",
    "\n",
    "### 3.1 Check quality of replicate clusters vs  shared product space"
   ]
  },
  {
   "cell_type": "code",
   "execution_count": 6,
   "id": "84578b56",
   "metadata": {},
   "outputs": [
    {
     "data": {
      "image/png": "[encoded data removed]",
      "text/plain": [
       "<Figure size 720x720 with 4 Axes>"
      ]
     },
     "metadata": {
      "needs_background": "light"
     },
     "output_type": "display_data"
    }
   ],
   "source": [
    "from poodle import visualization as viz\n",
    "\n",
    "viz.plotQualityControl(df_cluster[['PhenoGraph_clusters', 'pseudoId']], df_projection, z_existent, pd.DataFrame(z_new))"
   ]
  },
  {
   "cell_type": "markdown",
   "id": "a7936b69",
   "metadata": {},
   "source": [
    "#### And how does it compared to the complete product space?"
   ]
  },
  {
   "cell_type": "code",
   "execution_count": 7,
   "id": "47a1918c",
   "metadata": {},
   "outputs": [
    {
     "data": {
      "image/png": "[encoded data removed]",
      "text/plain": [
       "<Figure size 720x720 with 4 Axes>"
      ]
     },
     "metadata": {
      "needs_background": "light"
     },
     "output_type": "display_data"
    }
   ],
   "source": [
    "# Original (& complete) product space\n",
    "Z = pd.read_csv('../example_data/embedding/FullProductSpace_embedding.csv')\n",
    "Z = Z[Z.columns[4:]]\n",
    "viz.plotQualityControl(df_cluster[['PhenoGraph_clusters', 'pseudoId']], df_projection, Z, pd.DataFrame(z_new)) "
   ]
  },
  {
   "cell_type": "markdown",
   "id": "aca38b91",
   "metadata": {},
   "source": [
    "### 3.2 Look at the spatial variation"
   ]
  },
  {
   "cell_type": "code",
   "execution_count": 8,
   "id": "07562e93",
   "metadata": {},
   "outputs": [
    {
     "name": "stdout",
     "output_type": "stream",
     "text": [
      "Spatial variance in replication set: \tC1= 128; C2= 158; C3= 94; C4= 207\n",
      "Spatial variance in original set: \tC1= 299; C2= 290; C3= 243; C4= 171\n"
     ]
    },
    {
     "data": {
      "image/png": "[encoded data removed]",
      "text/plain": [
       "<Figure size 432x288 with 1 Axes>"
      ]
     },
     "metadata": {
      "needs_background": "light"
     },
     "output_type": "display_data"
    }
   ],
   "source": [
    "from collections import Counter\n",
    "\n",
    "c = Counter(df_projection['PredictedCluster'])\n",
    "l_new = [c[ix]/sum(c.values()) for ix in range(1,len(c)+1)]\n",
    "print('Spatial variance in replication set: \\tC' + '; C'.join([str(ix) + '= ' + str(c[ix]) for ix in range(1,len(c)+1)]))\n",
    "c = Counter(df_cluster['PhenoGraph_clusters'])\n",
    "l_old = [c[ix]/sum(c.values()) for ix in range(0,len(c))]\n",
    "print('Spatial variance in original set: \\tC' + '; C'.join([str(ix+1) + '= ' + str(c[ix]) for ix in range(0,len(c))]))\n",
    "\n",
    "viz.plotSpatialVariation(l_new, l_old)"
   ]
  },
  {
   "cell_type": "markdown",
   "id": "d8c2534e",
   "metadata": {},
   "source": [
    "## Step 4 Downstream analysis\n",
    "- Zoom into a particular patient - to gain insight into the cluster assignment procedure\n",
    "\n",
    "### 4.1 Map a specific patient (patient 582)"
   ]
  },
  {
   "cell_type": "code",
   "execution_count": 18,
   "id": "ddd02767",
   "metadata": {},
   "outputs": [
    {
     "data": {
      "image/png": "[encoded data removed]",
      "text/plain": [
       "<Figure size 720x720 with 4 Axes>"
      ]
     },
     "metadata": {
      "needs_background": "light"
     },
     "output_type": "display_data"
    }
   ],
   "source": [
    "ix = 582 \n",
    "\n",
    "# collect sample information\n",
    "new_pat = str(df_id.iloc[ix]['pseudoId'])\n",
    "sample_cat = df_categoric_replication.iloc[ix]\n",
    "sample_num = df_numeric_replication.iloc[ix]\n",
    "sample = sample_cat.append(sample_num)\n",
    "sample.name = new_pat\n",
    "\n",
    "# create metadata\n",
    "df_meta = pup.getMetaDataPatient(df_cluster, list(df_cluster['pseudoId'].values), new_pat)\n",
    "\n",
    "# project & classify patients\n",
    "y, z = pup.predictPatientCluster(maui_model, df_meta, z_existent, d_input, sample) \n",
    "\n",
    "viz.plotClusterMapping(df_meta, z, new_pat)"
   ]
  },
  {
   "cell_type": "markdown",
   "id": "85e8ad76",
   "metadata": {},
   "source": [
    "#### Print out probabilities"
   ]
  },
  {
   "cell_type": "code",
   "execution_count": 19,
   "id": "30f31dd7",
   "metadata": {},
   "outputs": [
    {
     "name": "stdout",
     "output_type": "stream",
     "text": [
      "|Calculated probabilities for pat 582|\n",
      "C1= 0.01\n",
      "C2= 0.26\n",
      "C3= 0.01\n",
      "C4= 0.72\n"
     ]
    }
   ],
   "source": [
    "print('|Calculated probabilities for pat %s|\\nC' % str(ix) + '\\nC'.join([str(ix+1) + '= %.2f' % (y[ix]) for ix in range(0,len(y))]))"
   ]
  },
  {
   "cell_type": "markdown",
   "id": "d67b7c87",
   "metadata": {},
   "source": [
    "### 4.2 Show top 10 closest neighbours for patient"
   ]
  },
  {
   "cell_type": "code",
   "execution_count": 10,
   "id": "89a7ac6c",
   "metadata": {},
   "outputs": [
    {
     "data": {
      "image/png": "[encoded data removed]",
      "text/plain": [
       "<Figure size 432x288 with 1 Axes>"
      ]
     },
     "metadata": {
      "needs_background": "light"
     },
     "output_type": "display_data"
    }
   ],
   "source": [
    "df_neighbours = pup.find_neighbours(df_meta, z, new_pat)\n",
    "viz.plot_neighbours(df_neighbours, new_pat)"
   ]
  },
  {
   "cell_type": "markdown",
   "id": "f0e9ff13",
   "metadata": {},
   "source": [
    "## Step 5 Compare SHAP plots for further evaluation\n",
    "We will build a surrogate model for the replication set, to see if the SHAP swarm plots compare to the original set as a means of validation.\n",
    "\n",
    "### 5.1 Construct a complete profile "
   ]
  },
  {
   "cell_type": "code",
   "execution_count": 29,
   "id": "b1442826",
   "metadata": {},
   "outputs": [],
   "source": [
    "# Replication clustering information \n",
    "df_cluster = pd.read_csv('../example_data/results/ClusterAssignment_METEOR.csv', sep=',')\n",
    "\n",
    "# Add categorical data\n",
    "df_profile = df_categoric_replication.merge(df_cluster, left_index=True, right_index=True)\n",
    "\n",
    "# Add numerical data\n",
    "df_profile = df_profile.merge(df_numeric_replication[['MCV', 'Ht', 'Leuko', 'MCHC', 'MCH', 'BSE', 'Hb',\n",
    "       'Trom', 'Lym', 'Mono', 'Age']], left_index=True, right_index=True)"
   ]
  },
  {
   "cell_type": "markdown",
   "id": "6fd56edb",
   "metadata": {},
   "source": [
    "### 5.2 Calculate SHAP values with a surrogate model"
   ]
  },
  {
   "cell_type": "code",
   "execution_count": 30,
   "id": "7c27b6c2",
   "metadata": {},
   "outputs": [],
   "source": [
    "import shap\n",
    "from sklearn.model_selection import train_test_split\n",
    "from sklearn.model_selection import KFold\n",
    "import xgboost as xgb\n",
    "import matplotlib.pyplot as plt\n",
    "import time\n",
    "import seaborn as sn\n",
    "from sklearn.metrics import confusion_matrix, plot_confusion_matrix\n",
    "from sklearn.metrics import accuracy_score\n",
    "from sklearn.metrics import f1_score\n",
    "from sklearn.preprocessing import StandardScaler\n",
    "\n",
    "# Preload function\n",
    "def strip_right(df, suffix='_positive'):\n",
    "    df.columns = df.columns.str.replace(suffix+'$', '', regex=True)\n",
    "strip_right(df_profile)\n",
    "\n",
    "# 1. Create training & test set\n",
    "cols_interest = [col for col in df_profile.columns if col not in ['pseudoId', 'Proba_cluster1', 'Proba_cluster2', 'Proba_cluster3',\n",
    "       'Proba_cluster4']]\n",
    "cols_interest = [col for col in cols_interest if 'negative' not in col]\n",
    "    \n",
    "target = 'PredictedCluster'\n",
    "\n",
    "\n",
    "df_train, df_test = train_test_split(df_profile[cols_interest], test_size=0.2, stratify=df_profile[target], random_state=28072022)\n",
    "\n",
    "# 2. Fitting the model\n",
    "cols_data = [x for x in list(cols_interest) if x not in [target]] \n",
    "\n",
    "X = df_train[cols_data].values\n",
    "y = df_train[target] - 1\n"
   ]
  },
  {
   "cell_type": "markdown",
   "id": "0cbbe98f",
   "metadata": {},
   "source": [
    "### 5.3 K-fold cross validation"
   ]
  },
  {
   "cell_type": "code",
   "execution_count": 31,
   "id": "1e15364d",
   "metadata": {},
   "outputs": [
    {
     "name": "stdout",
     "output_type": "stream",
     "text": [
      "TRAIN: [ 94  95  96  97  98  99 100 101 102 103] TEST: [0 1 2 3 4 5 6 7 8 9]\n",
      "[17:00:23] WARNING: ../src/learner.cc:1115: Starting in XGBoost 1.3.0, the default evaluation metric used with the objective 'multi:softmax' was changed from 'merror' to 'mlogloss'. Explicitly set eval_metric if you'd like to restore the old behavior.\n",
      "[0]\ttrain-mlogloss:1.07483\ttest-mlogloss:1.21429\n",
      "[1]\ttrain-mlogloss:0.85948\ttest-mlogloss:1.11393\n",
      "[2]\ttrain-mlogloss:0.69900\ttest-mlogloss:1.03699\n",
      "[3]\ttrain-mlogloss:0.57917\ttest-mlogloss:0.97297\n",
      "[4]\ttrain-mlogloss:0.48919\ttest-mlogloss:0.95385\n",
      "[5]\ttrain-mlogloss:0.41954\ttest-mlogloss:0.91602\n",
      "[6]\ttrain-mlogloss:0.36281\ttest-mlogloss:0.90306\n",
      "[7]\ttrain-mlogloss:0.31276\ttest-mlogloss:0.89314\n",
      "[8]\ttrain-mlogloss:0.27566\ttest-mlogloss:0.88404\n",
      "[9]\ttrain-mlogloss:0.24231\ttest-mlogloss:0.88557\n",
      "[10]\ttrain-mlogloss:0.21504\ttest-mlogloss:0.88494\n",
      "[11]\ttrain-mlogloss:0.19174\ttest-mlogloss:0.87115\n",
      "[12]\ttrain-mlogloss:0.17089\ttest-mlogloss:0.86294\n",
      "[13]\ttrain-mlogloss:0.15510\ttest-mlogloss:0.85218\n",
      "[14]\ttrain-mlogloss:0.13909\ttest-mlogloss:0.84126\n",
      "[15]\ttrain-mlogloss:0.12784\ttest-mlogloss:0.83689\n",
      "[16]\ttrain-mlogloss:0.11569\ttest-mlogloss:0.83835\n",
      "[17]\ttrain-mlogloss:0.10665\ttest-mlogloss:0.83592\n",
      "[18]\ttrain-mlogloss:0.09630\ttest-mlogloss:0.83243\n",
      "[19]\ttrain-mlogloss:0.08832\ttest-mlogloss:0.83461\n",
      "[20]\ttrain-mlogloss:0.08236\ttest-mlogloss:0.82823\n",
      "[21]\ttrain-mlogloss:0.07648\ttest-mlogloss:0.82820\n",
      "[22]\ttrain-mlogloss:0.07179\ttest-mlogloss:0.82337\n",
      "[23]\ttrain-mlogloss:0.06728\ttest-mlogloss:0.81972\n",
      "[24]\ttrain-mlogloss:0.06269\ttest-mlogloss:0.82665\n",
      "[25]\ttrain-mlogloss:0.05890\ttest-mlogloss:0.83297\n",
      "[26]\ttrain-mlogloss:0.05555\ttest-mlogloss:0.82747\n",
      "[27]\ttrain-mlogloss:0.05234\ttest-mlogloss:0.83302\n",
      "[28]\ttrain-mlogloss:0.04980\ttest-mlogloss:0.82464\n",
      "[29]\ttrain-mlogloss:0.04735\ttest-mlogloss:0.82307\n",
      "[30]\ttrain-mlogloss:0.04502\ttest-mlogloss:0.82122\n",
      "[31]\ttrain-mlogloss:0.04303\ttest-mlogloss:0.81846\n",
      "[32]\ttrain-mlogloss:0.04124\ttest-mlogloss:0.81388\n",
      "[33]\ttrain-mlogloss:0.03954\ttest-mlogloss:0.81309\n",
      "[34]\ttrain-mlogloss:0.03793\ttest-mlogloss:0.81352\n",
      "[35]\ttrain-mlogloss:0.03634\ttest-mlogloss:0.81078\n",
      "[36]\ttrain-mlogloss:0.03505\ttest-mlogloss:0.81643\n",
      "[37]\ttrain-mlogloss:0.03384\ttest-mlogloss:0.82136\n",
      "[38]\ttrain-mlogloss:0.03271\ttest-mlogloss:0.82224\n",
      "[39]\ttrain-mlogloss:0.03161\ttest-mlogloss:0.82310\n",
      "[40]\ttrain-mlogloss:0.03050\ttest-mlogloss:0.82686\n",
      "[41]\ttrain-mlogloss:0.02952\ttest-mlogloss:0.82836\n",
      "[42]\ttrain-mlogloss:0.02850\ttest-mlogloss:0.83015\n",
      "[43]\ttrain-mlogloss:0.02772\ttest-mlogloss:0.82803\n",
      "[44]\ttrain-mlogloss:0.02695\ttest-mlogloss:0.82835\n",
      "[45]\ttrain-mlogloss:0.02621\ttest-mlogloss:0.82557\n",
      "[46]\ttrain-mlogloss:0.02561\ttest-mlogloss:0.82656\n",
      "[47]\ttrain-mlogloss:0.02498\ttest-mlogloss:0.82416\n",
      "[48]\ttrain-mlogloss:0.02431\ttest-mlogloss:0.82853\n",
      "[49]\ttrain-mlogloss:0.02381\ttest-mlogloss:0.83031\n",
      "Time for Training XGB model 1: 0.42134833335876465\n",
      "TRAIN: [0 1 2 3 4 5 6 7 8 9] TEST: [ 94  95  96  97  98  99 100 101 102 103]\n",
      "[17:00:23] WARNING: ../src/learner.cc:1115: Starting in XGBoost 1.3.0, the default evaluation metric used with the objective 'multi:softmax' was changed from 'merror' to 'mlogloss'. Explicitly set eval_metric if you'd like to restore the old behavior.\n",
      "[0]\ttrain-mlogloss:1.06053\ttest-mlogloss:1.19130\n",
      "[1]\ttrain-mlogloss:0.84968\ttest-mlogloss:1.07184\n",
      "[2]\ttrain-mlogloss:0.69348\ttest-mlogloss:0.98744\n",
      "[3]\ttrain-mlogloss:0.58025\ttest-mlogloss:0.91840\n",
      "[4]\ttrain-mlogloss:0.48562\ttest-mlogloss:0.85507\n",
      "[5]\ttrain-mlogloss:0.41332\ttest-mlogloss:0.82468\n",
      "[6]\ttrain-mlogloss:0.35200\ttest-mlogloss:0.78520\n",
      "[7]\ttrain-mlogloss:0.29929\ttest-mlogloss:0.76826\n",
      "[8]\ttrain-mlogloss:0.25881\ttest-mlogloss:0.74285\n",
      "[9]\ttrain-mlogloss:0.22396\ttest-mlogloss:0.72518\n",
      "[10]\ttrain-mlogloss:0.19734\ttest-mlogloss:0.70256\n",
      "[11]\ttrain-mlogloss:0.17552\ttest-mlogloss:0.68669\n",
      "[12]\ttrain-mlogloss:0.15763\ttest-mlogloss:0.67376\n",
      "[13]\ttrain-mlogloss:0.14169\ttest-mlogloss:0.65961\n",
      "[14]\ttrain-mlogloss:0.12781\ttest-mlogloss:0.65142\n",
      "[15]\ttrain-mlogloss:0.11452\ttest-mlogloss:0.64455\n",
      "[16]\ttrain-mlogloss:0.10502\ttest-mlogloss:0.63963\n",
      "[17]\ttrain-mlogloss:0.09590\ttest-mlogloss:0.63658\n",
      "[18]\ttrain-mlogloss:0.08892\ttest-mlogloss:0.63493\n",
      "[19]\ttrain-mlogloss:0.08239\ttest-mlogloss:0.63363\n",
      "[20]\ttrain-mlogloss:0.07624\ttest-mlogloss:0.63001\n",
      "[21]\ttrain-mlogloss:0.07134\ttest-mlogloss:0.63256\n",
      "[22]\ttrain-mlogloss:0.06626\ttest-mlogloss:0.63134\n",
      "[23]\ttrain-mlogloss:0.06230\ttest-mlogloss:0.62870\n",
      "[24]\ttrain-mlogloss:0.05835\ttest-mlogloss:0.62480\n",
      "[25]\ttrain-mlogloss:0.05511\ttest-mlogloss:0.62447\n",
      "[26]\ttrain-mlogloss:0.05223\ttest-mlogloss:0.62415\n",
      "[27]\ttrain-mlogloss:0.04958\ttest-mlogloss:0.62596\n",
      "[28]\ttrain-mlogloss:0.04714\ttest-mlogloss:0.62546\n",
      "[29]\ttrain-mlogloss:0.04505\ttest-mlogloss:0.62733\n",
      "[30]\ttrain-mlogloss:0.04301\ttest-mlogloss:0.62672\n",
      "[31]\ttrain-mlogloss:0.04096\ttest-mlogloss:0.62369\n",
      "[32]\ttrain-mlogloss:0.03902\ttest-mlogloss:0.62523\n",
      "[33]\ttrain-mlogloss:0.03753\ttest-mlogloss:0.62253\n",
      "[34]\ttrain-mlogloss:0.03577\ttest-mlogloss:0.62849\n",
      "[35]\ttrain-mlogloss:0.03449\ttest-mlogloss:0.62313\n",
      "[36]\ttrain-mlogloss:0.03317\ttest-mlogloss:0.63096\n",
      "[37]\ttrain-mlogloss:0.03166\ttest-mlogloss:0.63223\n",
      "[38]\ttrain-mlogloss:0.03041\ttest-mlogloss:0.63331\n",
      "[39]\ttrain-mlogloss:0.02943\ttest-mlogloss:0.63399\n",
      "[40]\ttrain-mlogloss:0.02858\ttest-mlogloss:0.63510\n",
      "[41]\ttrain-mlogloss:0.02770\ttest-mlogloss:0.63456\n",
      "[42]\ttrain-mlogloss:0.02688\ttest-mlogloss:0.63567\n",
      "[43]\ttrain-mlogloss:0.02603\ttest-mlogloss:0.63647\n",
      "[44]\ttrain-mlogloss:0.02530\ttest-mlogloss:0.63611\n",
      "[45]\ttrain-mlogloss:0.02451\ttest-mlogloss:0.63376\n",
      "[46]\ttrain-mlogloss:0.02390\ttest-mlogloss:0.63194\n",
      "[47]\ttrain-mlogloss:0.02329\ttest-mlogloss:0.63651\n",
      "[48]\ttrain-mlogloss:0.02279\ttest-mlogloss:0.63687\n",
      "[49]\ttrain-mlogloss:0.02229\ttest-mlogloss:0.63621\n",
      "Time for Training XGB model 2: 0.3800194263458252\n",
      "TRAIN: [0 1 2 3 4 5 6 7 8 9] TEST: [188 189 190 191 192 193 194 195 196 197]\n",
      "[17:00:24] WARNING: ../src/learner.cc:1115: Starting in XGBoost 1.3.0, the default evaluation metric used with the objective 'multi:softmax' was changed from 'merror' to 'mlogloss'. Explicitly set eval_metric if you'd like to restore the old behavior.\n",
      "[0]\ttrain-mlogloss:1.06683\ttest-mlogloss:1.19584\n",
      "[1]\ttrain-mlogloss:0.84856\ttest-mlogloss:1.05100\n",
      "[2]\ttrain-mlogloss:0.68618\ttest-mlogloss:0.97418\n",
      "[3]\ttrain-mlogloss:0.57021\ttest-mlogloss:0.90448\n",
      "[4]\ttrain-mlogloss:0.48008\ttest-mlogloss:0.85568\n",
      "[5]\ttrain-mlogloss:0.41157\ttest-mlogloss:0.81223\n",
      "[6]\ttrain-mlogloss:0.35559\ttest-mlogloss:0.77625\n",
      "[7]\ttrain-mlogloss:0.30778\ttest-mlogloss:0.74542\n",
      "[8]\ttrain-mlogloss:0.26927\ttest-mlogloss:0.72326\n",
      "[9]\ttrain-mlogloss:0.23598\ttest-mlogloss:0.70161\n",
      "[10]\ttrain-mlogloss:0.20873\ttest-mlogloss:0.68563\n",
      "[11]\ttrain-mlogloss:0.18472\ttest-mlogloss:0.66015\n",
      "[12]\ttrain-mlogloss:0.16712\ttest-mlogloss:0.64894\n",
      "[13]\ttrain-mlogloss:0.15120\ttest-mlogloss:0.63903\n",
      "[14]\ttrain-mlogloss:0.13790\ttest-mlogloss:0.62527\n",
      "[15]\ttrain-mlogloss:0.12638\ttest-mlogloss:0.61406\n",
      "[16]\ttrain-mlogloss:0.11512\ttest-mlogloss:0.60145\n",
      "[17]\ttrain-mlogloss:0.10384\ttest-mlogloss:0.60153\n",
      "[18]\ttrain-mlogloss:0.09594\ttest-mlogloss:0.59913\n",
      "[19]\ttrain-mlogloss:0.09009\ttest-mlogloss:0.59963\n",
      "[20]\ttrain-mlogloss:0.08341\ttest-mlogloss:0.59879\n",
      "[21]\ttrain-mlogloss:0.07765\ttest-mlogloss:0.58978\n",
      "[22]\ttrain-mlogloss:0.07291\ttest-mlogloss:0.59243\n",
      "[23]\ttrain-mlogloss:0.06839\ttest-mlogloss:0.59053\n",
      "[24]\ttrain-mlogloss:0.06476\ttest-mlogloss:0.58602\n",
      "[25]\ttrain-mlogloss:0.06083\ttest-mlogloss:0.58206\n",
      "[26]\ttrain-mlogloss:0.05705\ttest-mlogloss:0.58216\n",
      "[27]\ttrain-mlogloss:0.05383\ttest-mlogloss:0.58142\n",
      "[28]\ttrain-mlogloss:0.05043\ttest-mlogloss:0.58203\n",
      "[29]\ttrain-mlogloss:0.04813\ttest-mlogloss:0.57885\n",
      "[30]\ttrain-mlogloss:0.04542\ttest-mlogloss:0.58021\n",
      "[31]\ttrain-mlogloss:0.04312\ttest-mlogloss:0.58224\n",
      "[32]\ttrain-mlogloss:0.04108\ttest-mlogloss:0.58651\n",
      "[33]\ttrain-mlogloss:0.03911\ttest-mlogloss:0.58698\n",
      "[34]\ttrain-mlogloss:0.03769\ttest-mlogloss:0.58473\n",
      "[35]\ttrain-mlogloss:0.03611\ttest-mlogloss:0.58743\n",
      "[36]\ttrain-mlogloss:0.03472\ttest-mlogloss:0.58793\n",
      "[37]\ttrain-mlogloss:0.03337\ttest-mlogloss:0.58600\n",
      "[38]\ttrain-mlogloss:0.03235\ttest-mlogloss:0.58441\n",
      "[39]\ttrain-mlogloss:0.03132\ttest-mlogloss:0.58468\n",
      "[40]\ttrain-mlogloss:0.03009\ttest-mlogloss:0.58714\n",
      "[41]\ttrain-mlogloss:0.02897\ttest-mlogloss:0.59168\n",
      "[42]\ttrain-mlogloss:0.02823\ttest-mlogloss:0.59314\n"
     ]
    },
    {
     "name": "stdout",
     "output_type": "stream",
     "text": [
      "[43]\ttrain-mlogloss:0.02732\ttest-mlogloss:0.59563\n",
      "[44]\ttrain-mlogloss:0.02647\ttest-mlogloss:0.59498\n",
      "[45]\ttrain-mlogloss:0.02572\ttest-mlogloss:0.59319\n",
      "[46]\ttrain-mlogloss:0.02506\ttest-mlogloss:0.59240\n",
      "[47]\ttrain-mlogloss:0.02433\ttest-mlogloss:0.59432\n",
      "[48]\ttrain-mlogloss:0.02376\ttest-mlogloss:0.59487\n",
      "[49]\ttrain-mlogloss:0.02322\ttest-mlogloss:0.59509\n",
      "Time for Training XGB model 3: 0.386507511138916\n",
      "TRAIN: [0 1 2 3 4 5 6 7 8 9] TEST: [282 283 284 285 286 287 288 289 290 291]\n",
      "[17:00:24] WARNING: ../src/learner.cc:1115: Starting in XGBoost 1.3.0, the default evaluation metric used with the objective 'multi:softmax' was changed from 'merror' to 'mlogloss'. Explicitly set eval_metric if you'd like to restore the old behavior.\n",
      "[0]\ttrain-mlogloss:1.05242\ttest-mlogloss:1.20969\n",
      "[1]\ttrain-mlogloss:0.83470\ttest-mlogloss:1.07862\n",
      "[2]\ttrain-mlogloss:0.68506\ttest-mlogloss:0.98930\n",
      "[3]\ttrain-mlogloss:0.57166\ttest-mlogloss:0.92982\n",
      "[4]\ttrain-mlogloss:0.47733\ttest-mlogloss:0.88368\n",
      "[5]\ttrain-mlogloss:0.40459\ttest-mlogloss:0.83874\n",
      "[6]\ttrain-mlogloss:0.34761\ttest-mlogloss:0.81544\n",
      "[7]\ttrain-mlogloss:0.30246\ttest-mlogloss:0.77645\n",
      "[8]\ttrain-mlogloss:0.26567\ttest-mlogloss:0.75484\n",
      "[9]\ttrain-mlogloss:0.23110\ttest-mlogloss:0.74424\n",
      "[10]\ttrain-mlogloss:0.20601\ttest-mlogloss:0.72098\n",
      "[11]\ttrain-mlogloss:0.18507\ttest-mlogloss:0.70890\n",
      "[12]\ttrain-mlogloss:0.16477\ttest-mlogloss:0.70574\n",
      "[13]\ttrain-mlogloss:0.14791\ttest-mlogloss:0.69580\n",
      "[14]\ttrain-mlogloss:0.13504\ttest-mlogloss:0.69640\n",
      "[15]\ttrain-mlogloss:0.12435\ttest-mlogloss:0.68573\n",
      "[16]\ttrain-mlogloss:0.11234\ttest-mlogloss:0.67503\n",
      "[17]\ttrain-mlogloss:0.10215\ttest-mlogloss:0.66224\n",
      "[18]\ttrain-mlogloss:0.09309\ttest-mlogloss:0.66107\n",
      "[19]\ttrain-mlogloss:0.08622\ttest-mlogloss:0.65184\n",
      "[20]\ttrain-mlogloss:0.07845\ttest-mlogloss:0.65687\n",
      "[21]\ttrain-mlogloss:0.07330\ttest-mlogloss:0.65263\n",
      "[22]\ttrain-mlogloss:0.06787\ttest-mlogloss:0.65986\n",
      "[23]\ttrain-mlogloss:0.06275\ttest-mlogloss:0.65841\n",
      "[24]\ttrain-mlogloss:0.05878\ttest-mlogloss:0.65765\n",
      "[25]\ttrain-mlogloss:0.05517\ttest-mlogloss:0.65632\n",
      "[26]\ttrain-mlogloss:0.05222\ttest-mlogloss:0.65389\n",
      "[27]\ttrain-mlogloss:0.04933\ttest-mlogloss:0.65002\n",
      "[28]\ttrain-mlogloss:0.04715\ttest-mlogloss:0.64628\n",
      "[29]\ttrain-mlogloss:0.04513\ttest-mlogloss:0.64801\n",
      "[30]\ttrain-mlogloss:0.04289\ttest-mlogloss:0.64401\n",
      "[31]\ttrain-mlogloss:0.04115\ttest-mlogloss:0.64823\n",
      "[32]\ttrain-mlogloss:0.03920\ttest-mlogloss:0.64931\n",
      "[33]\ttrain-mlogloss:0.03774\ttest-mlogloss:0.64611\n",
      "[34]\ttrain-mlogloss:0.03640\ttest-mlogloss:0.64380\n",
      "[35]\ttrain-mlogloss:0.03485\ttest-mlogloss:0.64215\n",
      "[36]\ttrain-mlogloss:0.03376\ttest-mlogloss:0.64194\n",
      "[37]\ttrain-mlogloss:0.03251\ttest-mlogloss:0.64345\n",
      "[38]\ttrain-mlogloss:0.03122\ttest-mlogloss:0.64303\n",
      "[39]\ttrain-mlogloss:0.03008\ttest-mlogloss:0.64446\n",
      "[40]\ttrain-mlogloss:0.02903\ttest-mlogloss:0.64455\n",
      "[41]\ttrain-mlogloss:0.02808\ttest-mlogloss:0.64244\n",
      "[42]\ttrain-mlogloss:0.02724\ttest-mlogloss:0.64282\n",
      "[43]\ttrain-mlogloss:0.02654\ttest-mlogloss:0.63827\n",
      "[44]\ttrain-mlogloss:0.02579\ttest-mlogloss:0.63623\n",
      "[45]\ttrain-mlogloss:0.02513\ttest-mlogloss:0.63441\n",
      "[46]\ttrain-mlogloss:0.02433\ttest-mlogloss:0.63316\n",
      "[47]\ttrain-mlogloss:0.02376\ttest-mlogloss:0.63172\n",
      "[48]\ttrain-mlogloss:0.02320\ttest-mlogloss:0.63096\n",
      "[49]\ttrain-mlogloss:0.02260\ttest-mlogloss:0.63154\n",
      "Time for Training XGB model 4: 0.37604641914367676\n",
      "TRAIN: [0 1 2 3 4 5 6 7 8 9] TEST: [376 377 378 379 380 381 382 383 384 385]\n",
      "[17:00:24] WARNING: ../src/learner.cc:1115: Starting in XGBoost 1.3.0, the default evaluation metric used with the objective 'multi:softmax' was changed from 'merror' to 'mlogloss'. Explicitly set eval_metric if you'd like to restore the old behavior.\n",
      "[0]\ttrain-mlogloss:1.08121\ttest-mlogloss:1.14381\n",
      "[1]\ttrain-mlogloss:0.86518\ttest-mlogloss:1.00983\n",
      "[2]\ttrain-mlogloss:0.71772\ttest-mlogloss:0.91221\n",
      "[3]\ttrain-mlogloss:0.60070\ttest-mlogloss:0.84595\n",
      "[4]\ttrain-mlogloss:0.50965\ttest-mlogloss:0.78476\n",
      "[5]\ttrain-mlogloss:0.42798\ttest-mlogloss:0.73596\n",
      "[6]\ttrain-mlogloss:0.37152\ttest-mlogloss:0.70386\n",
      "[7]\ttrain-mlogloss:0.32038\ttest-mlogloss:0.66444\n",
      "[8]\ttrain-mlogloss:0.28105\ttest-mlogloss:0.63314\n",
      "[9]\ttrain-mlogloss:0.24894\ttest-mlogloss:0.59869\n",
      "[10]\ttrain-mlogloss:0.21675\ttest-mlogloss:0.59168\n",
      "[11]\ttrain-mlogloss:0.19164\ttest-mlogloss:0.58508\n",
      "[12]\ttrain-mlogloss:0.17306\ttest-mlogloss:0.57690\n",
      "[13]\ttrain-mlogloss:0.15429\ttest-mlogloss:0.56542\n",
      "[14]\ttrain-mlogloss:0.14140\ttest-mlogloss:0.55463\n",
      "[15]\ttrain-mlogloss:0.12765\ttest-mlogloss:0.54143\n",
      "[16]\ttrain-mlogloss:0.11645\ttest-mlogloss:0.53722\n",
      "[17]\ttrain-mlogloss:0.10687\ttest-mlogloss:0.52731\n",
      "[18]\ttrain-mlogloss:0.09884\ttest-mlogloss:0.52149\n",
      "[19]\ttrain-mlogloss:0.09214\ttest-mlogloss:0.51293\n",
      "[20]\ttrain-mlogloss:0.08461\ttest-mlogloss:0.51254\n",
      "[21]\ttrain-mlogloss:0.07936\ttest-mlogloss:0.50557\n",
      "[22]\ttrain-mlogloss:0.07435\ttest-mlogloss:0.50376\n",
      "[23]\ttrain-mlogloss:0.06924\ttest-mlogloss:0.49666\n",
      "[24]\ttrain-mlogloss:0.06483\ttest-mlogloss:0.49823\n",
      "[25]\ttrain-mlogloss:0.06150\ttest-mlogloss:0.49853\n",
      "[26]\ttrain-mlogloss:0.05807\ttest-mlogloss:0.49475\n",
      "[27]\ttrain-mlogloss:0.05469\ttest-mlogloss:0.49658\n",
      "[28]\ttrain-mlogloss:0.05159\ttest-mlogloss:0.49476\n",
      "[29]\ttrain-mlogloss:0.04903\ttest-mlogloss:0.50451\n",
      "[30]\ttrain-mlogloss:0.04635\ttest-mlogloss:0.50454\n",
      "[31]\ttrain-mlogloss:0.04431\ttest-mlogloss:0.50528\n",
      "[32]\ttrain-mlogloss:0.04265\ttest-mlogloss:0.50826\n",
      "[33]\ttrain-mlogloss:0.04102\ttest-mlogloss:0.50775\n",
      "[34]\ttrain-mlogloss:0.03927\ttest-mlogloss:0.50748\n",
      "[35]\ttrain-mlogloss:0.03782\ttest-mlogloss:0.50815\n",
      "[36]\ttrain-mlogloss:0.03663\ttest-mlogloss:0.50848\n",
      "[37]\ttrain-mlogloss:0.03514\ttest-mlogloss:0.51101\n",
      "[38]\ttrain-mlogloss:0.03401\ttest-mlogloss:0.51053\n",
      "[39]\ttrain-mlogloss:0.03290\ttest-mlogloss:0.51491\n",
      "[40]\ttrain-mlogloss:0.03177\ttest-mlogloss:0.51501\n",
      "[41]\ttrain-mlogloss:0.03080\ttest-mlogloss:0.51658\n",
      "[42]\ttrain-mlogloss:0.02984\ttest-mlogloss:0.51753\n",
      "[43]\ttrain-mlogloss:0.02891\ttest-mlogloss:0.52075\n",
      "[44]\ttrain-mlogloss:0.02810\ttest-mlogloss:0.51886\n",
      "[45]\ttrain-mlogloss:0.02733\ttest-mlogloss:0.51884\n",
      "[46]\ttrain-mlogloss:0.02669\ttest-mlogloss:0.52032\n",
      "[47]\ttrain-mlogloss:0.02596\ttest-mlogloss:0.52461\n",
      "[48]\ttrain-mlogloss:0.02534\ttest-mlogloss:0.52439\n",
      "[49]\ttrain-mlogloss:0.02480\ttest-mlogloss:0.52190\n",
      "Time for Training XGB model 5: 0.3815641403198242\n"
     ]
    }
   ],
   "source": [
    "# Apply 5 fold CV\n",
    "kf = KFold(n_splits=5) # \n",
    "iteration = 0\n",
    "y_pred = []\n",
    "\n",
    "for train_index, test_index in kf.split(X):\n",
    "    print(\"TRAIN:\", train_index[:10], \"TEST:\", test_index[:10])\n",
    "    X_train, X_test = pd.DataFrame(X).loc[train_index], pd.DataFrame(X).loc[test_index]\n",
    "    y_train, y_test = np.take(y, np.array(train_index)), np.take(y, np.array(test_index))\n",
    "\n",
    "    # Normalize\n",
    "    fit_gaussian = False\n",
    "\n",
    "    # Z-score scaling\n",
    "    scaler = StandardScaler().fit(X_train)\n",
    "    X_train= scaler.transform(X_train)\n",
    "    X_test = scaler.transform(X_test)\n",
    "\n",
    "    # Model is an XGBClassifier\n",
    "    n_trees = 50\n",
    "    dmat_train = xgb.DMatrix(X_train, y_train)\n",
    "    dmat_test = xgb.DMatrix(X_test, y_test)\n",
    "\n",
    "    t0 = time.time()\n",
    "    bst  = xgb.train({'objective': 'multi:softmax', 'num_class':len(y.unique())}, dmat_train,\n",
    "                        n_trees, evals=[(dmat_train, \"train\"), (dmat_test, \"test\")]) # \"tree_method\": \"gpu_hist\", \n",
    "    t1 = time.time()\n",
    "    print('Time for Training XGB model %s: %s' % (str(iteration+1), str(t1-t0)))\n",
    "    iteration += 1\n",
    "    \n",
    "    # Create a confusion matrix over all data!\n",
    "    y_pred.extend(bst.predict(dmat_test))\n"
   ]
  },
  {
   "cell_type": "markdown",
   "id": "7bd6e417",
   "metadata": {},
   "source": [
    "### 5.4 Infer quality of surrogate model"
   ]
  },
  {
   "cell_type": "code",
   "execution_count": 32,
   "id": "79101bde",
   "metadata": {},
   "outputs": [
    {
     "data": {
      "text/plain": [
       "Text(0.5, 1.0, 'Confusion matrix for the XGBoost classifier - both categorical + numerical (ACC: 0.74)')"
      ]
     },
     "execution_count": 32,
     "metadata": {},
     "output_type": "execute_result"
    },
    {
     "data": {
      "text/plain": [
       "<Figure size 432x288 with 0 Axes>"
      ]
     },
     "metadata": {},
     "output_type": "display_data"
    },
    {
     "data": {
      "image/png": "[encoded data removed]",
      "text/plain": [
       "<Figure size 720x504 with 2 Axes>"
      ]
     },
     "metadata": {
      "needs_background": "light"
     },
     "output_type": "display_data"
    }
   ],
   "source": [
    "# PLot\n",
    "fig = plt.figure()\n",
    "cm = confusion_matrix(y, y_pred)\n",
    "accuracy = accuracy_score(y, y_pred)\n",
    "\n",
    "\n",
    "df_cm = pd.DataFrame(cm, index = list(range(len(y.unique()))),\n",
    "                  columns = list(range(len(y.unique()))))\n",
    "plt.figure(figsize = (10,7))\n",
    "sn.heatmap(df_cm, annot=True, fmt='g')\n",
    "plt.xlabel(\"Posthoc XGB-predictions\")\n",
    "plt.ylabel(\"Actual Cluster-labels\")\n",
    "plt.title('Confusion matrix for the XGBoost classifier - both categorical + numerical (ACC: %.2f)' % (accuracy))"
   ]
  },
  {
   "cell_type": "markdown",
   "id": "5fff8103",
   "metadata": {},
   "source": [
    "### 5.5 Compute & visualize SHAP values"
   ]
  },
  {
   "cell_type": "code",
   "execution_count": 34,
   "id": "216e062d",
   "metadata": {},
   "outputs": [
    {
     "name": "stdout",
     "output_type": "stream",
     "text": [
      "Calculating SHAP: 0.11357522010803223\n"
     ]
    },
    {
     "data": {
      "text/plain": [
       "<Figure size 576x540 with 0 Axes>"
      ]
     },
     "metadata": {},
     "output_type": "display_data"
    }
   ],
   "source": [
    "t0 = time.time()\n",
    "#shap_values = bst.predict(dmat_test, pred_contribs=True)\n",
    "t_explainer = shap.TreeExplainer(bst) # or just X?\n",
    "shap_values = t_explainer.shap_values(X_test)\n",
    "t1 = time.time()\n",
    "print('Calculating SHAP: ' + str(t1-t0))\n",
    "\n",
    "# Plot each class\n",
    "for class_idx in range(len(y.unique())):\n",
    "    fig = shap.summary_plot(shap_values[class_idx], X_test, cols_data, show=False, max_display=15) # default = 20\n",
    "    plt.subplots_adjust(bottom=0.4)\n",
    "    plt.tight_layout()\n",
    "    plt.savefig('../figures/replication/shap%s_replicate.png' % (str(class_idx)))\n",
    "    plt.clf()"
   ]
  },
  {
   "cell_type": "markdown",
   "id": "16316bbf",
   "metadata": {},
   "source": [
    "### 5.6 Compare SHAP plots\n",
    "\n",
    "Original clusters            |  Replicate clusters\n",
    ":-------------------------:|:-------------------------:\n",
    "![shap1_original](../figures/original/shap1_original.png)  |  ![shap1_replicate](../figures/replication/shap0_replicate.png)\n",
    "![shap2_original](../figures/original/shap2_original.png)  |  ![shap2_replicate](../figures/replication/shap1_replicate.png)\n",
    "![shap3_original](../figures/original/shap3_original.png)  |  ![shap3_replicate](../figures/replication/shap2_replicate.png)\n",
    "![shap4_original](../figures/original/shap4_original.png)  |  ![shap4_replicate](../figures/replication/shap3_replicate.png)"
   ]
  },
  {
   "cell_type": "markdown",
   "id": "ef66c204",
   "metadata": {},
   "source": [
    "## 6. Future steps:\n",
    "- compare baseline characteristics\n",
    "- add tsne step (to elucidate potential batch effect) -> before or right after step 2\n",
    "- add batch correction step (pyComBat or Harmony?)"
   ]
  }
 ],
 "metadata": {
  "kernelspec": {
   "display_name": "Python (keras_env)",
   "language": "python",
   "name": "keras_env"
  },
  "language_info": {
   "codemirror_mode": {
    "name": "ipython",
    "version": 3
   },
   "file_extension": ".py",
   "mimetype": "text/x-python",
   "name": "python",
   "nbconvert_exporter": "python",
   "pygments_lexer": "ipython3",
   "version": "3.6.13"
  }
 },
 "nbformat": 4,
 "nbformat_minor": 5
}
